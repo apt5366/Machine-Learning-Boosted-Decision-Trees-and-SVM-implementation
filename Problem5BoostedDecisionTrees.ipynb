{
 "cells": [
  {
   "cell_type": "code",
   "execution_count": 23,
   "id": "4a62bc8f",
   "metadata": {},
   "outputs": [
    {
     "data": {
      "image/png": "[encoded data removed]",
      "text/plain": [
       "<Figure size 640x480 with 1 Axes>"
      ]
     },
     "metadata": {},
     "output_type": "display_data"
    }
   ],
   "source": [
    "import numpy as np\n",
    "import pandas as pd\n",
    "import matplotlib.pyplot as plt\n",
    "import seaborn as sns\n",
    "from sklearn.model_selection import train_test_split\n",
    "from sklearn.metrics import accuracy_score\n",
    "from sklearn.datasets import load_svmlight_file\n",
    "from sklearn.model_selection import GridSearchCV\n",
    "from sklearn.neighbors import KNeighborsClassifier\n",
    "from sklearn.model_selection import cross_val_score\n",
    "import warnings\n",
    "warnings.filterwarnings('ignore')\n",
    "from xgboost import XGBClassifier\n",
    "from sklearn.svm import SVC \n",
    "from sklearn.preprocessing import LabelEncoder\n",
    "# load data in LibSVM sparse data format\n",
    "X, y = load_svmlight_file('a9a.txt')\n",
    "X_test, y_test = load_svmlight_file('a9a.t')\n",
    "\n",
    "# print(X_test[0])\n",
    "\n",
    "# split data into train and validation sets\n",
    "seed = 6\n",
    "val_size = 0.1\n",
    "X_train, X_val, y_train, y_val = train_test_split(X, y, test_size=0.1, random_state=seed)\n",
    "\n",
    "le = LabelEncoder()\n",
    "y_train = le.fit_transform(y_train)\n",
    "y_test = le.transform(y_test)\n",
    "\n",
    "#Setting base accuracy \n",
    "\n",
    "k_values = range(1, 15)\n",
    "\n",
    "# Calculate 5-fold cross-validation accuracy for each k value\n",
    "cv_scores = []\n",
    "for k in k_values:\n",
    "    knn = KNeighborsClassifier(n_neighbors=k)\n",
    "    scores = cross_val_score(knn, X_train, y_train.ravel(), cv=5)\n",
    "    cv_scores.append(np.mean(scores))\n",
    "    \n",
    "# Plot the results\n",
    "plt.plot(k_values, cv_scores)\n",
    "plt.xlabel('Number of Neighbors K')\n",
    "plt.ylabel('Accuracy')\n",
    "plt.title('5-Fold Cross-Validation for KNN')\n",
    "plt.show()\n",
    "\n",
    "# # fit model on training data\n",
    "# # for simplicity we fit based on default values of hyperparameters\n",
    "# model = XGBClassifier()\n",
    "# model.fit(X_train, y_train)\n",
    "# # make predictions for test data\n",
    "# y_pred = model.predict(X_test)\n",
    "# predictions = [round(value) for value in y_pred]\n",
    "# # evaluate predictions\n",
    "# accuracy = accuracy_score(y_test, predictions)\n",
    "# print(\"Accuracy: %.2f%%\" % (accuracy * 100.0))"
   ]
  },
  {
   "cell_type": "code",
   "execution_count": 24,
   "id": "86f1dfa4",
   "metadata": {},
   "outputs": [
    {
     "data": {
      "text/plain": [
       "0.8388919599533198"
      ]
     },
     "execution_count": 24,
     "metadata": {},
     "output_type": "execute_result"
    }
   ],
   "source": [
    "knc = KNeighborsClassifier(n_neighbors=14)\n",
    "knc.fit(X_train, y_train.ravel())\n",
    "knc.score(X_test, y_test)"
   ]
  },
  {
   "cell_type": "code",
   "execution_count": 25,
   "id": "f85d8221",
   "metadata": {},
   "outputs": [
    {
     "name": "stdout",
     "output_type": "stream",
     "text": [
      "{'lambda': 1, 'learning_rate': 0.15, 'max_depth': 4, 'n_estimators': 200, 'objective': 'binary:logistic'}\n"
     ]
    }
   ],
   "source": [
    "\n",
    "param_grid=[{'n_estimators':[100,200],\n",
    "             'max_depth':[3,4,5],\n",
    "             'lambda':[1,5,10],\n",
    "             'learning_rate':[0.05,0.15],\n",
    "             'objective':['binary:logistic']\n",
    "            },]\n",
    "             \n",
    "#             'gamma':['scale',1,0.1,0.01,0.001,0.0001],\n",
    "#             'kernel':['rbf']}\n",
    "           \n",
    "\n",
    "optimal_params=GridSearchCV(\n",
    "        XGBClassifier(random_state=42),\n",
    "        param_grid,\n",
    "        cv=5,\n",
    "        scoring='accuracy',\n",
    "        verbose=0\n",
    "    )\n",
    "\n",
    "\n",
    "optimal_params.fit(X_train,y_train)\n",
    "print(optimal_params.best_params_)\n",
    "\n"
   ]
  },
  {
   "cell_type": "code",
   "execution_count": 26,
   "id": "19550d2b",
   "metadata": {},
   "outputs": [
    {
     "name": "stdout",
     "output_type": "stream",
     "text": [
      "Accuracy for training data: 86.23%\n",
      "Accuracy: 85.23%\n"
     ]
    }
   ],
   "source": [
    "# model = XGBClassifier(lambda=1,learning_rate=0.15,max_depth=4,n_estimators= 200, objective = binary:logistic)\n",
    "# model = XGBClassifier(optimal_params.best_params_)\n",
    "# model.fit(X_train, y_train)\n",
    "# optimal_params.fit(X_train, y_train)\n",
    "# # make predictions for test data\n",
    "model =optimal_params.best_estimator_\n",
    "model.fit(X_train, y_train)\n",
    "# optimal_params.fit(X_train, y_train)\n",
    "\n",
    "y_pred_train = model.predict(X_train)\n",
    "predictions_train = [round(value) for value in y_pred_train]\n",
    "# evaluate predictions\n",
    "accuracy_train = accuracy_score(y_train, predictions_train)\n",
    "print(\"Accuracy for training data: %.2f%%\" % (accuracy_train * 100.0))\n",
    "\n",
    "y_pred = model.predict(X_test)\n",
    "predictions = [round(value) for value in y_pred]\n",
    "# evaluate predictions\n",
    "accuracy = accuracy_score(y_test, predictions)\n",
    "print(\"Accuracy: %.2f%%\" % (accuracy * 100.0))"
   ]
  },
  {
   "cell_type": "code",
   "execution_count": null,
   "id": "8d44e257",
   "metadata": {},
   "outputs": [],
   "source": []
  }
 ],
 "metadata": {
  "kernelspec": {
   "display_name": "Python 3 (ipykernel)",
   "language": "python",
   "name": "python3"
  },
  "language_info": {
   "codemirror_mode": {
    "name": "ipython",
    "version": 3
   },
   "file_extension": ".py",
   "mimetype": "text/x-python",
   "name": "python",
   "nbconvert_exporter": "python",
   "pygments_lexer": "ipython3",
   "version": "3.9.13"
  }
 },
 "nbformat": 4,
 "nbformat_minor": 5
}
